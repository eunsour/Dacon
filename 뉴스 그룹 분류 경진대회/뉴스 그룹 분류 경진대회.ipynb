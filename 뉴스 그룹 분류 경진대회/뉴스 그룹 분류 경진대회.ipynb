{
 "cells": [
  {
   "cell_type": "markdown",
   "id": "9597556e",
   "metadata": {},
   "source": [
    "# Import Library"
   ]
  },
  {
   "cell_type": "code",
   "execution_count": 1,
   "id": "664661cf",
   "metadata": {
    "ExecuteTime": {
     "end_time": "2022-04-17T07:42:25.089223Z",
     "start_time": "2022-04-17T07:42:24.105269Z"
    }
   },
   "outputs": [],
   "source": [
    "import re\n",
    "\n",
    "import numpy as np\n",
    "import pandas as pd\n",
    "\n",
    "import seaborn as sns\n",
    "import matplotlib.pyplot as plt\n",
    "%matplotlib inline \n",
    "\n",
    "import nltk\n",
    "# nltk.download('all')\n",
    "from nltk.corpus import stopwords"
   ]
  },
  {
   "cell_type": "markdown",
   "id": "5342d6d6",
   "metadata": {},
   "source": [
    "# Load Dataset"
   ]
  },
  {
   "cell_type": "code",
   "execution_count": 2,
   "id": "ff407e8f",
   "metadata": {
    "ExecuteTime": {
     "end_time": "2022-04-17T07:42:25.170690Z",
     "start_time": "2022-04-17T07:42:25.090202Z"
    }
   },
   "outputs": [
    {
     "data": {
      "text/html": [
       "<div>\n",
       "<style scoped>\n",
       "    .dataframe tbody tr th:only-of-type {\n",
       "        vertical-align: middle;\n",
       "    }\n",
       "\n",
       "    .dataframe tbody tr th {\n",
       "        vertical-align: top;\n",
       "    }\n",
       "\n",
       "    .dataframe thead th {\n",
       "        text-align: right;\n",
       "    }\n",
       "</style>\n",
       "<table border=\"1\" class=\"dataframe\">\n",
       "  <thead>\n",
       "    <tr style=\"text-align: right;\">\n",
       "      <th></th>\n",
       "      <th>id</th>\n",
       "      <th>text</th>\n",
       "      <th>target</th>\n",
       "    </tr>\n",
       "  </thead>\n",
       "  <tbody>\n",
       "    <tr>\n",
       "      <th>0</th>\n",
       "      <td>0</td>\n",
       "      <td>\\nThey were, and even if Washington might cons...</td>\n",
       "      <td>10</td>\n",
       "    </tr>\n",
       "    <tr>\n",
       "      <th>1</th>\n",
       "      <td>1</td>\n",
       "      <td>We run \"SpaceNews &amp; Views\" on our STAREACH BBS...</td>\n",
       "      <td>14</td>\n",
       "    </tr>\n",
       "    <tr>\n",
       "      <th>2</th>\n",
       "      <td>2</td>\n",
       "      <td>\\n\\n\\nNot to worry.  The Masons have been demo...</td>\n",
       "      <td>19</td>\n",
       "    </tr>\n",
       "    <tr>\n",
       "      <th>3</th>\n",
       "      <td>3</td>\n",
       "      <td>Only Brendan McKay, or maybe ARF, would come t...</td>\n",
       "      <td>17</td>\n",
       "    </tr>\n",
       "    <tr>\n",
       "      <th>4</th>\n",
       "      <td>4</td>\n",
       "      <td>Help: I am running some sample problems from O...</td>\n",
       "      <td>5</td>\n",
       "    </tr>\n",
       "  </tbody>\n",
       "</table>\n",
       "</div>"
      ],
      "text/plain": [
       "   id                                               text  target\n",
       "0   0  \\nThey were, and even if Washington might cons...      10\n",
       "1   1  We run \"SpaceNews & Views\" on our STAREACH BBS...      14\n",
       "2   2  \\n\\n\\nNot to worry.  The Masons have been demo...      19\n",
       "3   3  Only Brendan McKay, or maybe ARF, would come t...      17\n",
       "4   4  Help: I am running some sample problems from O...       5"
      ]
     },
     "execution_count": 2,
     "metadata": {},
     "output_type": "execute_result"
    }
   ],
   "source": [
    "train = pd.read_csv('./dataset/train.csv')\n",
    "train.head()"
   ]
  },
  {
   "cell_type": "code",
   "execution_count": 3,
   "id": "52ef363f",
   "metadata": {
    "ExecuteTime": {
     "end_time": "2022-04-17T07:42:25.555409Z",
     "start_time": "2022-04-17T07:42:25.534395Z"
    }
   },
   "outputs": [
    {
     "name": "stdout",
     "output_type": "stream",
     "text": [
      "<class 'pandas.core.frame.DataFrame'>\n",
      "RangeIndex: 9233 entries, 0 to 9232\n",
      "Data columns (total 3 columns):\n",
      " #   Column  Non-Null Count  Dtype \n",
      "---  ------  --------------  ----- \n",
      " 0   id      9233 non-null   int64 \n",
      " 1   text    9233 non-null   object\n",
      " 2   target  9233 non-null   int64 \n",
      "dtypes: int64(2), object(1)\n",
      "memory usage: 216.5+ KB\n"
     ]
    }
   ],
   "source": [
    "train.info()"
   ]
  },
  {
   "cell_type": "code",
   "execution_count": 4,
   "id": "d26cc6c3",
   "metadata": {
    "ExecuteTime": {
     "end_time": "2022-04-17T07:42:25.875030Z",
     "start_time": "2022-04-17T07:42:25.868078Z"
    }
   },
   "outputs": [
    {
     "data": {
      "text/plain": [
       "array([ 0,  1,  2,  3,  4,  5,  6,  7,  8,  9, 10, 11, 12, 13, 14, 15, 16,\n",
       "       17, 18, 19])"
      ]
     },
     "execution_count": 4,
     "metadata": {},
     "output_type": "execute_result"
    }
   ],
   "source": [
    "temp = train.target.unique()\n",
    "np.sort(temp)"
   ]
  },
  {
   "cell_type": "markdown",
   "id": "666ffcf6",
   "metadata": {},
   "source": [
    "# Preprocessing"
   ]
  },
  {
   "cell_type": "code",
   "execution_count": 5,
   "id": "f4ab4149",
   "metadata": {
    "ExecuteTime": {
     "end_time": "2022-04-17T07:42:26.378510Z",
     "start_time": "2022-04-17T07:42:26.361899Z"
    }
   },
   "outputs": [
    {
     "name": "stdout",
     "output_type": "stream",
     "text": [
      "결측치가 존재하지 않습니다\n"
     ]
    }
   ],
   "source": [
    "def check_missing_col(dataframe):\n",
    "    missing_col = []\n",
    "    counted_missing_col = 0\n",
    "    \n",
    "    for i, col in enumerate(dataframe.columns):\n",
    "        missing_values = sum(dataframe[col].isna())\n",
    "        is_missing = True if missing_values >= 1 else False\n",
    "        \n",
    "        if is_missing:\n",
    "            counted_missing_col += 1\n",
    "            print(f'결측치가 있는 컬럼은: {col}입니다')\n",
    "            print(f'해당 컬럼에 총 {missing_values}개의 결측치가 존재합니다.')\n",
    "            missing_col.append([col, dataframe[col].dtype])\n",
    "            \n",
    "    if counted_missing_col == 0:\n",
    "        print('결측치가 존재하지 않습니다')\n",
    "        \n",
    "    return missing_col\n",
    "\n",
    "missing_col = check_missing_col(train)\n"
   ]
  },
  {
   "cell_type": "code",
   "execution_count": 6,
   "id": "35c9f20b",
   "metadata": {
    "ExecuteTime": {
     "end_time": "2022-04-17T07:42:27.648993Z",
     "start_time": "2022-04-17T07:42:26.569103Z"
    }
   },
   "outputs": [
    {
     "name": "stdout",
     "output_type": "stream",
     "text": [
      "물음표가 있는 뉴스: 44.59%\n",
      "마침표가 있는 뉴스: 95.48%\n",
      "첫 글자가 대문자인 뉴스: 41.19%\n",
      "대문자가 있는 뉴스: 98.19%\n",
      "숫자가 있는 뉴스: 58.36%\n"
     ]
    }
   ],
   "source": [
    "qmarks = np.mean(train['text'].apply(lambda x : '?' in x))\n",
    "fullstop = np.mean(train['text'].apply(lambda x : '.' in x))\n",
    "capital_first = np.mean(train['text'].apply(lambda x : x[0].isupper()))\n",
    "capitals = np.mean(train['text'].apply(lambda x : max([y.isupper() for y in x])))\n",
    "numbers = np.mean(train['text'].apply(lambda x : max([y.isdigit() for y in x])))\n",
    "\n",
    "print('물음표가 있는 뉴스: {:.2f}%'.format(qmarks * 100))\n",
    "print('마침표가 있는 뉴스: {:.2f}%'.format(fullstop * 100))\n",
    "print('첫 글자가 대문자인 뉴스: {:.2f}%'.format(capital_first * 100))\n",
    "print('대문자가 있는 뉴스: {:.2f}%'.format(capitals * 100))\n",
    "print('숫자가 있는 뉴스: {:.2f}%'.format(numbers * 100))"
   ]
  },
  {
   "cell_type": "code",
   "execution_count": 7,
   "id": "e47c3b51",
   "metadata": {
    "ExecuteTime": {
     "end_time": "2022-04-17T07:42:27.654716Z",
     "start_time": "2022-04-17T07:42:27.650317Z"
    }
   },
   "outputs": [],
   "source": [
    "def clean_text(texts):\n",
    "    corpus = []\n",
    "    \n",
    "    for i in range(0, len(texts)):\n",
    "        # @%*=()/+ 와 같은 문장부호 제거\n",
    "        review = re.sub(\n",
    "            r'[@%\\\\*=()/~#&\\+á?\\xc3\\xa1\\-\\|\\.\\:\\;\\!\\-\\,\\_\\~\\$\\'\\\"\\n\\]\\[\\>]', '', texts[i])\n",
    "        review = re.sub(r'\\d+', '', review)      # 숫자 제거\n",
    "        review = review.lower()                  # 소문자 변환\n",
    "        review = re.sub(r'\\s+', ' ', review)     # extra space 제거\n",
    "        review = re.sub(r'<[^>]+>', '', review)  # Html tags 제거\n",
    "        review = re.sub(r'\\s+', ' ', review)     # spaces 제거\n",
    "        review = re.sub(r\"^\\s+\", '', review)     # space from start 제거\n",
    "        review = re.sub(r'\\s+$', '', review)     # space from the end 제거\n",
    "        review = re.sub(r'_', ' ', review)       # space from the end 제거\n",
    "        corpus.append(review)\n",
    "\n",
    "    return corpus"
   ]
  },
  {
   "cell_type": "code",
   "execution_count": 8,
   "id": "9adfb491",
   "metadata": {
    "ExecuteTime": {
     "end_time": "2022-04-17T07:42:28.885271Z",
     "start_time": "2022-04-17T07:42:27.656147Z"
    }
   },
   "outputs": [
    {
     "data": {
      "text/html": [
       "<div>\n",
       "<style scoped>\n",
       "    .dataframe tbody tr th:only-of-type {\n",
       "        vertical-align: middle;\n",
       "    }\n",
       "\n",
       "    .dataframe tbody tr th {\n",
       "        vertical-align: top;\n",
       "    }\n",
       "\n",
       "    .dataframe thead th {\n",
       "        text-align: right;\n",
       "    }\n",
       "</style>\n",
       "<table border=\"1\" class=\"dataframe\">\n",
       "  <thead>\n",
       "    <tr style=\"text-align: right;\">\n",
       "      <th></th>\n",
       "      <th>id</th>\n",
       "      <th>text</th>\n",
       "      <th>target</th>\n",
       "    </tr>\n",
       "  </thead>\n",
       "  <tbody>\n",
       "    <tr>\n",
       "      <th>0</th>\n",
       "      <td>0</td>\n",
       "      <td>they were and even if washington might conside...</td>\n",
       "      <td>10</td>\n",
       "    </tr>\n",
       "    <tr>\n",
       "      <th>1</th>\n",
       "      <td>1</td>\n",
       "      <td>we run spacenews views on our stareach bbs a l...</td>\n",
       "      <td>14</td>\n",
       "    </tr>\n",
       "    <tr>\n",
       "      <th>2</th>\n",
       "      <td>2</td>\n",
       "      <td>not to worry the masons have been demonized an...</td>\n",
       "      <td>19</td>\n",
       "    </tr>\n",
       "    <tr>\n",
       "      <th>3</th>\n",
       "      <td>3</td>\n",
       "      <td>only brendan mckay or maybe arf would come to ...</td>\n",
       "      <td>17</td>\n",
       "    </tr>\n",
       "    <tr>\n",
       "      <th>4</th>\n",
       "      <td>4</td>\n",
       "      <td>help i am running some sample problems from or...</td>\n",
       "      <td>5</td>\n",
       "    </tr>\n",
       "  </tbody>\n",
       "</table>\n",
       "</div>"
      ],
      "text/plain": [
       "   id                                               text  target\n",
       "0   0  they were and even if washington might conside...      10\n",
       "1   1  we run spacenews views on our stareach bbs a l...      14\n",
       "2   2  not to worry the masons have been demonized an...      19\n",
       "3   3  only brendan mckay or maybe arf would come to ...      17\n",
       "4   4  help i am running some sample problems from or...       5"
      ]
     },
     "execution_count": 8,
     "metadata": {},
     "output_type": "execute_result"
    }
   ],
   "source": [
    "temp = clean_text(train['text']) \n",
    "train['text'] = temp\n",
    "train.head()"
   ]
  },
  {
   "cell_type": "markdown",
   "id": "a09f13f9",
   "metadata": {},
   "source": [
    "## News Group Rate Check"
   ]
  },
  {
   "cell_type": "code",
   "execution_count": 9,
   "id": "a317fe7f",
   "metadata": {
    "ExecuteTime": {
     "end_time": "2022-04-17T07:42:28.890701Z",
     "start_time": "2022-04-17T07:42:28.886540Z"
    }
   },
   "outputs": [
    {
     "name": "stdout",
     "output_type": "stream",
     "text": [
      "라벨 0인 리뷰 갯수 : 386\n",
      "라벨 1인 리뷰 갯수 : 480\n",
      "라벨 2인 리뷰 갯수 : 458\n",
      "라벨 3인 리뷰 갯수 : 467\n",
      "라벨 4인 리뷰 갯수 : 490\n",
      "라벨 5인 리뷰 갯수 : 496\n",
      "라벨 6인 리뷰 갯수 : 494\n",
      "라벨 7인 리뷰 갯수 : 493\n",
      "라벨 8인 리뷰 갯수 : 475\n",
      "라벨 9인 리뷰 갯수 : 490\n",
      "라벨 10인 리뷰 갯수 : 482\n",
      "라벨 11인 리뷰 갯수 : 488\n",
      "라벨 12인 리뷰 갯수 : 483\n",
      "라벨 13인 리뷰 갯수 : 490\n",
      "라벨 14인 리뷰 갯수 : 467\n",
      "라벨 15인 리뷰 갯수 : 515\n",
      "라벨 16인 리뷰 갯수 : 428\n",
      "라벨 17인 리뷰 갯수 : 455\n",
      "라벨 18인 리뷰 갯수 : 387\n",
      "라벨 19인 리뷰 갯수 : 309\n"
     ]
    }
   ],
   "source": [
    "val_count = train['target'].value_counts()\n",
    "\n",
    "for i in range(20):\n",
    "    print(f'라벨 {i}인 리뷰 갯수 : {val_count[i]}')"
   ]
  },
  {
   "cell_type": "code",
   "execution_count": 10,
   "id": "987cd9dd",
   "metadata": {
    "ExecuteTime": {
     "end_time": "2022-04-17T07:42:28.971616Z",
     "start_time": "2022-04-17T07:42:28.891947Z"
    }
   },
   "outputs": [
    {
     "data": {
      "image/png": "[encoded data removed]",
      "text/plain": [
       "<Figure size 432x288 with 1 Axes>"
      ]
     },
     "metadata": {
      "needs_background": "light"
     },
     "output_type": "display_data"
    },
    {
     "data": {
      "text/plain": [
       "<Figure size 720x504 with 0 Axes>"
      ]
     },
     "metadata": {},
     "output_type": "display_data"
    }
   ],
   "source": [
    "sns.countplot(x='target', data=train, color='#17becf')\n",
    "\n",
    "plt.figure(figsize=(10, 7))\n",
    "plt.show()"
   ]
  },
  {
   "cell_type": "markdown",
   "id": "237dac6d",
   "metadata": {},
   "source": [
    "---"
   ]
  },
  {
   "cell_type": "markdown",
   "id": "7d3b86ec",
   "metadata": {},
   "source": [
    "## Text Length Check"
   ]
  },
  {
   "cell_type": "code",
   "execution_count": 11,
   "id": "99d2a338",
   "metadata": {
    "ExecuteTime": {
     "end_time": "2022-04-17T07:42:28.976956Z",
     "start_time": "2022-04-17T07:42:28.972411Z"
    },
    "scrolled": false
   },
   "outputs": [
    {
     "name": "stdout",
     "output_type": "stream",
     "text": [
      "뉴스 길이 최댓값 : 71331\n",
      "뉴스 길이 최솟값 : 0\n",
      "뉴스 길이 평균값 : 1020.0\n",
      "뉴스 길이 중간값 : 444.0\n",
      "뉴스 길이 표준편차 : 2892.0\n"
     ]
    }
   ],
   "source": [
    "train_length = train['text'].apply(len)\n",
    "\n",
    "print(f'뉴스 길이 최댓값 : {round(np.max(train_length), 0)}')\n",
    "print(f'뉴스 길이 최솟값 : {round(np.min(train_length), 0)}')\n",
    "print(f'뉴스 길이 평균값 : {round(np.mean(train_length), 0)}')\n",
    "print(f'뉴스 길이 중간값 : {round(np.median(train_length), 0)}')\n",
    "print(f'뉴스 길이 표준편차 : {round(np.std(train_length), 0)}')"
   ]
  },
  {
   "cell_type": "code",
   "execution_count": 12,
   "id": "6295547b",
   "metadata": {
    "ExecuteTime": {
     "end_time": "2022-04-17T07:42:29.370740Z",
     "start_time": "2022-04-17T07:42:28.977835Z"
    }
   },
   "outputs": [
    {
     "data": {
      "image/png": "[encoded data removed]",
      "text/plain": [
       "<Figure size 864x360 with 1 Axes>"
      ]
     },
     "metadata": {
      "needs_background": "light"
     },
     "output_type": "display_data"
    }
   ],
   "source": [
    "plt.figure(figsize=(12, 5))\n",
    "plt.hist(train_length, bins=200, alpha=0.5, facecolor='r', label='train')\n",
    "plt.title('Log-Histogram of length in news text')\n",
    "plt.yscale('log')\n",
    "plt.legend()\n",
    "\n",
    "plt.xlabel('Length of text', fontsize=10)\n",
    "plt.ylabel('Number of text', fontsize=10)\n",
    "plt.show()"
   ]
  },
  {
   "cell_type": "markdown",
   "id": "1690863f",
   "metadata": {},
   "source": [
    "**뉴스의 길이가 대부분 1,000 안팎인데 길이가 1,000 이상인 데이터도 많이 분포돼 있는 것을 확인할 수 있다.**"
   ]
  },
  {
   "cell_type": "code",
   "execution_count": 13,
   "id": "92e5f227",
   "metadata": {
    "ExecuteTime": {
     "end_time": "2022-04-17T07:42:29.439669Z",
     "start_time": "2022-04-17T07:42:29.371988Z"
    }
   },
   "outputs": [
    {
     "data": {
      "image/png": "[encoded data removed]",
      "text/plain": [
       "<Figure size 864x720 with 1 Axes>"
      ]
     },
     "metadata": {
      "needs_background": "light"
     },
     "output_type": "display_data"
    }
   ],
   "source": [
    "plt.figure(figsize=(12, 10))\n",
    "\n",
    "plt.boxplot(train_length,\n",
    "            labels=['counts'],\n",
    "            showmeans=True)\n",
    "plt.show()"
   ]
  },
  {
   "cell_type": "markdown",
   "id": "5e92f9aa",
   "metadata": {},
   "source": [
    "---"
   ]
  },
  {
   "cell_type": "markdown",
   "id": "ce553e92",
   "metadata": {},
   "source": [
    "## Text Count Check"
   ]
  },
  {
   "cell_type": "code",
   "execution_count": 14,
   "id": "bbee6810",
   "metadata": {
    "ExecuteTime": {
     "end_time": "2022-04-17T07:42:29.732406Z",
     "start_time": "2022-04-17T07:42:29.668362Z"
    }
   },
   "outputs": [
    {
     "name": "stdout",
     "output_type": "stream",
     "text": [
      "뉴스 단어 갯수 최댓값 : 9771\n",
      "뉴스 단어 갯수 최솟값 : 1\n",
      "뉴스 단어 갯수 평균값 : 167.0\n",
      "뉴스 단어 갯수 중간값 : 77.0\n",
      "뉴스 단어 갯수 표준편차 : 440.0\n"
     ]
    }
   ],
   "source": [
    "train_word_counts = train['text'].apply(lambda x : len(x.split(' ')))\n",
    "\n",
    "print(f'뉴스 단어 갯수 최댓값 : {round(np.max(train_word_counts), 0)}')\n",
    "print(f'뉴스 단어 갯수 최솟값 : {round(np.min(train_word_counts), 0)}')\n",
    "print(f'뉴스 단어 갯수 평균값 : {round(np.mean(train_word_counts), 0)}')\n",
    "print(f'뉴스 단어 갯수 중간값 : {round(np.median(train_word_counts), 0)}')\n",
    "print(f'뉴스 단어 갯수 표준편차 : {round(np.std(train_word_counts), 0)}')"
   ]
  },
  {
   "cell_type": "code",
   "execution_count": 15,
   "id": "e67b22fa",
   "metadata": {
    "ExecuteTime": {
     "end_time": "2022-04-17T07:42:30.130370Z",
     "start_time": "2022-04-17T07:42:29.910108Z"
    }
   },
   "outputs": [
    {
     "data": {
      "image/png": "[encoded data removed]",
      "text/plain": [
       "<Figure size 864x360 with 1 Axes>"
      ]
     },
     "metadata": {
      "needs_background": "light"
     },
     "output_type": "display_data"
    }
   ],
   "source": [
    "plt.figure(figsize=(12, 5))\n",
    "plt.hist(train_word_counts, bins=50, alpha=0.5, facecolor='r', label='train')\n",
    "plt.title('Log-Histogram of word count in news text')\n",
    "plt.yscale('log')\n",
    "plt.legend()\n",
    "\n",
    "plt.xlabel('Number of words', fontsize=15)\n",
    "plt.ylabel('Number of text', fontsize=15)\n",
    "plt.show()"
   ]
  },
  {
   "cell_type": "markdown",
   "id": "59f5579f",
   "metadata": {},
   "source": [
    "---"
   ]
  },
  {
   "cell_type": "markdown",
   "id": "9932bec0",
   "metadata": {},
   "source": [
    "## Stopwords"
   ]
  },
  {
   "cell_type": "code",
   "execution_count": 16,
   "id": "0784a7b2",
   "metadata": {
    "ExecuteTime": {
     "end_time": "2022-04-17T07:42:31.282057Z",
     "start_time": "2022-04-17T07:42:31.277453Z"
    }
   },
   "outputs": [],
   "source": [
    "def text_preprocessing(news_text, remove_stopwords=False):\n",
    "    words = news_text.split()\n",
    "    \n",
    "    if remove_stopwords:\n",
    "        stops = set(stopwords.words('english'))\n",
    "        words = [w for w in words if not w in stops]\n",
    "        clean_words = ' '.join(words)\n",
    "    else:\n",
    "        clean_words = ' '.join(words)\n",
    "    return clean_words"
   ]
  },
  {
   "cell_type": "code",
   "execution_count": 17,
   "id": "2b2cc699",
   "metadata": {
    "ExecuteTime": {
     "end_time": "2022-04-17T07:42:31.526841Z",
     "start_time": "2022-04-17T07:42:31.515785Z"
    }
   },
   "outputs": [
    {
     "name": "stdout",
     "output_type": "stream",
     "text": [
      "기존 문장 : dont be so sure look what happened to japanese citizens in the us duringworld war ii if youre prepared to say lets round these people up andstick them in a concentration camp without trial its only a short step togassing them without trial after all it seems that the nazis originallyonly intended to imprison the jews the final solution was dreamt up partlybecause they couldnt afford to run the camps because of the devastationcaused by goerings total war those who werent gassed generally died ofmalnutrition or disease\n",
      "\n",
      "불용어를 적용한 문장 : dont sure look happened japanese citizens us duringworld war ii youre prepared say lets round people andstick concentration camp without trial short step togassing without trial seems nazis originallyonly intended imprison jews final solution dreamt partlybecause couldnt afford run camps devastationcaused goerings total war werent gassed generally died ofmalnutrition disease\n"
     ]
    }
   ],
   "source": [
    "test_text = train['text'][500]\n",
    "print(f'기존 문장 : {train[\"text\"][500]}\\n')\n",
    "print(f'불용어를 적용한 문장 : {text_preprocessing(test_text, remove_stopwords=True)}')"
   ]
  },
  {
   "cell_type": "markdown",
   "id": "52e20980",
   "metadata": {},
   "source": [
    "### Apply all train dataset stopwords"
   ]
  },
  {
   "cell_type": "code",
   "execution_count": 18,
   "id": "6d1f40f9",
   "metadata": {
    "ExecuteTime": {
     "end_time": "2022-04-17T07:42:32.945248Z",
     "start_time": "2022-04-17T07:42:32.279618Z"
    }
   },
   "outputs": [
    {
     "data": {
      "text/plain": [
       "'dont sure look happened japanese citizens us duringworld war ii youre prepared say lets round people andstick concentration camp without trial short step togassing without trial seems nazis originallyonly intended imprison jews final solution dreamt partlybecause couldnt afford run camps devastationcaused goerings total war werent gassed generally died ofmalnutrition disease'"
      ]
     },
     "execution_count": 18,
     "metadata": {},
     "output_type": "execute_result"
    }
   ],
   "source": [
    "clean_news_text = []\n",
    "\n",
    "for news in train['text']:\n",
    "    clean_news_text.append(text_preprocessing(news, remove_stopwords=True))\n",
    "\n",
    "clean_news_text[500]"
   ]
  },
  {
   "cell_type": "markdown",
   "id": "b04a4f7e",
   "metadata": {},
   "source": [
    "---"
   ]
  },
  {
   "cell_type": "markdown",
   "id": "c11bc4c0",
   "metadata": {},
   "source": [
    "# Modeling"
   ]
  },
  {
   "cell_type": "code",
   "execution_count": 19,
   "id": "c3b38d18",
   "metadata": {
    "ExecuteTime": {
     "end_time": "2022-04-17T07:42:36.236365Z",
     "start_time": "2022-04-17T07:42:33.565481Z"
    }
   },
   "outputs": [],
   "source": [
    "from sklearn.pipeline import Pipeline\n",
    "from sklearn.model_selection import train_test_split\n",
    "from sklearn.feature_extraction.text import TfidfVectorizer\n",
    "\n",
    "from tensorflow.keras.preprocessing.sequence import pad_sequences\n",
    "from tensorflow.keras.preprocessing.text import Tokenizer"
   ]
  },
  {
   "cell_type": "code",
   "execution_count": 20,
   "id": "8cace0f4",
   "metadata": {
    "ExecuteTime": {
     "end_time": "2022-04-17T07:42:36.239586Z",
     "start_time": "2022-04-17T07:42:36.237379Z"
    }
   },
   "outputs": [],
   "source": [
    "clean_train_df = pd.DataFrame({'clean_text': clean_news_text, 'text': train['text'], 'target': train['target']})"
   ]
  },
  {
   "cell_type": "code",
   "execution_count": 21,
   "id": "81fa967f",
   "metadata": {
    "ExecuteTime": {
     "end_time": "2022-04-17T07:42:36.243267Z",
     "start_time": "2022-04-17T07:42:36.240354Z"
    }
   },
   "outputs": [
    {
     "data": {
      "text/html": [
       "<div>\n",
       "<style scoped>\n",
       "    .dataframe tbody tr th:only-of-type {\n",
       "        vertical-align: middle;\n",
       "    }\n",
       "\n",
       "    .dataframe tbody tr th {\n",
       "        vertical-align: top;\n",
       "    }\n",
       "\n",
       "    .dataframe thead th {\n",
       "        text-align: right;\n",
       "    }\n",
       "</style>\n",
       "<table border=\"1\" class=\"dataframe\">\n",
       "  <thead>\n",
       "    <tr style=\"text-align: right;\">\n",
       "      <th></th>\n",
       "      <th>clean_text</th>\n",
       "      <th>text</th>\n",
       "      <th>target</th>\n",
       "    </tr>\n",
       "  </thead>\n",
       "  <tbody>\n",
       "    <tr>\n",
       "      <th>0</th>\n",
       "      <td>even washington might consider patty bust id r...</td>\n",
       "      <td>they were and even if washington might conside...</td>\n",
       "      <td>10</td>\n",
       "    </tr>\n",
       "    <tr>\n",
       "      <th>1</th>\n",
       "      <td>run spacenews views stareach bbs localoperatio...</td>\n",
       "      <td>we run spacenews views on our stareach bbs a l...</td>\n",
       "      <td>14</td>\n",
       "    </tr>\n",
       "    <tr>\n",
       "      <th>2</th>\n",
       "      <td>worry masons demonized harrassed almost every ...</td>\n",
       "      <td>not to worry the masons have been demonized an...</td>\n",
       "      <td>19</td>\n",
       "    </tr>\n",
       "    <tr>\n",
       "      <th>3</th>\n",
       "      <td>brendan mckay maybe arf would come rescue nazi...</td>\n",
       "      <td>only brendan mckay or maybe arf would come to ...</td>\n",
       "      <td>17</td>\n",
       "    </tr>\n",
       "    <tr>\n",
       "      <th>4</th>\n",
       "      <td>help running sample problems oreilly volume xt...</td>\n",
       "      <td>help i am running some sample problems from or...</td>\n",
       "      <td>5</td>\n",
       "    </tr>\n",
       "  </tbody>\n",
       "</table>\n",
       "</div>"
      ],
      "text/plain": [
       "                                          clean_text  \\\n",
       "0  even washington might consider patty bust id r...   \n",
       "1  run spacenews views stareach bbs localoperatio...   \n",
       "2  worry masons demonized harrassed almost every ...   \n",
       "3  brendan mckay maybe arf would come rescue nazi...   \n",
       "4  help running sample problems oreilly volume xt...   \n",
       "\n",
       "                                                text  target  \n",
       "0  they were and even if washington might conside...      10  \n",
       "1  we run spacenews views on our stareach bbs a l...      14  \n",
       "2  not to worry the masons have been demonized an...      19  \n",
       "3  only brendan mckay or maybe arf would come to ...      17  \n",
       "4  help i am running some sample problems from or...       5  "
      ]
     },
     "execution_count": 21,
     "metadata": {},
     "output_type": "execute_result"
    }
   ],
   "source": [
    "clean_train_df.head()"
   ]
  },
  {
   "cell_type": "markdown",
   "id": "453e33ef",
   "metadata": {},
   "source": [
    "---"
   ]
  },
  {
   "cell_type": "markdown",
   "id": "c6852f5f",
   "metadata": {},
   "source": [
    "## Logistic Regression"
   ]
  },
  {
   "cell_type": "code",
   "execution_count": 22,
   "id": "82b81a6f",
   "metadata": {
    "ExecuteTime": {
     "end_time": "2022-04-17T07:42:37.571845Z",
     "start_time": "2022-04-17T07:42:37.562465Z"
    }
   },
   "outputs": [],
   "source": [
    "news_text = list(clean_train_df['clean_text'])\n",
    "news_target = list(clean_train_df['target'])"
   ]
  },
  {
   "cell_type": "code",
   "execution_count": 23,
   "id": "067c87be",
   "metadata": {
    "ExecuteTime": {
     "end_time": "2022-04-17T07:42:41.335812Z",
     "start_time": "2022-04-17T07:42:37.817564Z"
    }
   },
   "outputs": [],
   "source": [
    "from sklearn.feature_extraction.text import TfidfVectorizer\n",
    "\n",
    "vectorizer = TfidfVectorizer(min_df=0.0, analyzer='char', sublinear_tf=True, ngram_range=(1,3), max_features=5000)\n",
    "\n",
    "X = vectorizer.fit_transform(news_text)"
   ]
  },
  {
   "cell_type": "code",
   "execution_count": 24,
   "id": "7db4e49d",
   "metadata": {
    "ExecuteTime": {
     "end_time": "2022-04-17T07:42:41.349034Z",
     "start_time": "2022-04-17T07:42:41.336820Z"
    }
   },
   "outputs": [],
   "source": [
    "from sklearn.model_selection import train_test_split\n",
    "\n",
    "RANDOM_SEED = 42\n",
    "TEST_SPLIT = 0.2\n",
    "\n",
    "y = np.array(news_target)\n",
    "\n",
    "X_train, X_eval, y_train, y_eval = train_test_split(X, y, test_size=TEST_SPLIT, random_state=RANDOM_SEED)"
   ]
  },
  {
   "cell_type": "code",
   "execution_count": 25,
   "id": "d4f8096e",
   "metadata": {
    "ExecuteTime": {
     "end_time": "2022-04-17T07:42:48.279728Z",
     "start_time": "2022-04-17T07:42:41.349743Z"
    }
   },
   "outputs": [
    {
     "data": {
      "text/plain": [
       "LogisticRegression(C=5, class_weight='balanced', solver='liblinear')"
      ]
     },
     "execution_count": 25,
     "metadata": {},
     "output_type": "execute_result"
    }
   ],
   "source": [
    "from sklearn.linear_model import LogisticRegression\n",
    "\n",
    "lgs = LogisticRegression(solver='liblinear', C = 5, class_weight='balanced')\n",
    "lgs.fit(X_train, y_train)"
   ]
  },
  {
   "cell_type": "code",
   "execution_count": 26,
   "id": "85cf78f7",
   "metadata": {
    "ExecuteTime": {
     "end_time": "2022-04-17T07:42:48.292251Z",
     "start_time": "2022-04-17T07:42:48.280900Z"
    }
   },
   "outputs": [
    {
     "name": "stdout",
     "output_type": "stream",
     "text": [
      "accuracy: 0.6870600974553329\n"
     ]
    }
   ],
   "source": [
    "print(f\"accuracy: {lgs.score(X_eval, y_eval)}\")"
   ]
  },
  {
   "cell_type": "markdown",
   "id": "17d63b9a",
   "metadata": {},
   "source": [
    "---"
   ]
  },
  {
   "cell_type": "markdown",
   "id": "392cc7cc",
   "metadata": {},
   "source": [
    "## Linear Support Vector Classifier"
   ]
  },
  {
   "cell_type": "code",
   "execution_count": 27,
   "id": "a4b719d9",
   "metadata": {
    "ExecuteTime": {
     "end_time": "2022-04-17T07:42:48.296483Z",
     "start_time": "2022-04-17T07:42:48.293179Z"
    }
   },
   "outputs": [],
   "source": [
    "news_text = list(clean_train_df['clean_text'])\n",
    "news_target = list(clean_train_df['target'])"
   ]
  },
  {
   "cell_type": "code",
   "execution_count": 28,
   "id": "2626fb06",
   "metadata": {
    "ExecuteTime": {
     "end_time": "2022-04-17T07:42:48.775087Z",
     "start_time": "2022-04-17T07:42:48.297324Z"
    }
   },
   "outputs": [],
   "source": [
    "X = np.array(news_text)\n",
    "y = np.array(news_target)\n",
    "\n",
    "X_train, X_eval, y_train, y_eval = train_test_split(X, y, test_size=TEST_SPLIT, random_state=RANDOM_SEED)"
   ]
  },
  {
   "cell_type": "markdown",
   "id": "3ac7ce52",
   "metadata": {},
   "source": [
    "---"
   ]
  },
  {
   "cell_type": "code",
   "execution_count": 29,
   "id": "f5f3d62b",
   "metadata": {
    "ExecuteTime": {
     "end_time": "2022-04-17T07:42:50.480917Z",
     "start_time": "2022-04-17T07:42:50.475757Z"
    }
   },
   "outputs": [],
   "source": [
    "from sklearn.svm import LinearSVC\n",
    "from sklearn.pipeline import Pipeline\n",
    "\n",
    "clf = Pipeline([\n",
    "    ('tfidf', TfidfVectorizer(min_df=0.0, \n",
    "                              analyzer='word',\n",
    "                              stop_words='english', \n",
    "                              sublinear_tf=True, \n",
    "                              ngram_range=(1, 2))),\n",
    "    ('svc', LinearSVC(class_weight='balanced', \n",
    "                      random_state=42))\n",
    "])"
   ]
  },
  {
   "cell_type": "code",
   "execution_count": 30,
   "id": "d7f770d0",
   "metadata": {
    "ExecuteTime": {
     "end_time": "2022-04-17T07:42:54.818294Z",
     "start_time": "2022-04-17T07:42:50.682040Z"
    }
   },
   "outputs": [
    {
     "data": {
      "text/plain": [
       "Pipeline(steps=[('tfidf',\n",
       "                 TfidfVectorizer(min_df=0.0, ngram_range=(1, 2),\n",
       "                                 stop_words='english', sublinear_tf=True)),\n",
       "                ('svc', LinearSVC(class_weight='balanced', random_state=42))])"
      ]
     },
     "execution_count": 30,
     "metadata": {},
     "output_type": "execute_result"
    }
   ],
   "source": [
    "clf.fit(X_train, y_train)"
   ]
  },
  {
   "cell_type": "code",
   "execution_count": 31,
   "id": "fad4f1e1",
   "metadata": {
    "ExecuteTime": {
     "end_time": "2022-04-17T07:42:55.363192Z",
     "start_time": "2022-04-17T07:42:54.819274Z"
    }
   },
   "outputs": [
    {
     "name": "stdout",
     "output_type": "stream",
     "text": [
      "accuracy: 0.7271250676773146\n"
     ]
    }
   ],
   "source": [
    "print(f\"accuracy: {clf.score(X_eval, y_eval)}\")"
   ]
  },
  {
   "cell_type": "markdown",
   "id": "d37627a4",
   "metadata": {},
   "source": [
    "---"
   ]
  },
  {
   "cell_type": "markdown",
   "id": "2d5a2ff3",
   "metadata": {},
   "source": [
    "## Multi-layer Perceptron Classifier"
   ]
  },
  {
   "cell_type": "code",
   "execution_count": 32,
   "id": "c04ed81d",
   "metadata": {
    "ExecuteTime": {
     "end_time": "2022-04-17T08:04:02.757208Z",
     "start_time": "2022-04-17T07:42:56.359882Z"
    }
   },
   "outputs": [
    {
     "data": {
      "text/plain": [
       "Pipeline(steps=[('tfidf',\n",
       "                 TfidfVectorizer(ngram_range=(1, 2), stop_words='english',\n",
       "                                 sublinear_tf=True)),\n",
       "                ('mlp',\n",
       "                 MLPClassifier(batch_size=64, early_stopping=True,\n",
       "                               random_state=42))])"
      ]
     },
     "execution_count": 32,
     "metadata": {},
     "output_type": "execute_result"
    }
   ],
   "source": [
    "from sklearn.neural_network import MLPClassifier\n",
    "from sklearn.pipeline import Pipeline\n",
    "\n",
    "mlp = Pipeline([\n",
    "    ('tfidf', TfidfVectorizer(min_df=1,\n",
    "                              analyzer='word',\n",
    "                              sublinear_tf=True,\n",
    "                              ngram_range=(1, 2),\n",
    "                              stop_words='english')),\n",
    "    ('mlp', MLPClassifier(solver='adam',\n",
    "                          batch_size=64,\n",
    "                           early_stopping=True,\n",
    "                          random_state=42))\n",
    "])\n",
    "\n",
    "mlp.fit(X_train, y_train)"
   ]
  },
  {
   "cell_type": "code",
   "execution_count": 33,
   "id": "c2dd3a95",
   "metadata": {
    "ExecuteTime": {
     "end_time": "2022-04-17T08:04:03.378477Z",
     "start_time": "2022-04-17T08:04:02.759308Z"
    }
   },
   "outputs": [
    {
     "name": "stdout",
     "output_type": "stream",
     "text": [
      "accuracy: 0.7325392528424473\n"
     ]
    }
   ],
   "source": [
    "print(f\"accuracy: {mlp.score(X_eval, y_eval)}\")"
   ]
  },
  {
   "cell_type": "markdown",
   "id": "eceeab98",
   "metadata": {
    "ExecuteTime": {
     "end_time": "2022-04-15T08:26:51.992044Z",
     "start_time": "2022-04-15T08:26:51.989371Z"
    }
   },
   "source": [
    "---"
   ]
  },
  {
   "cell_type": "markdown",
   "id": "2074112a",
   "metadata": {},
   "source": [
    "# Submit"
   ]
  },
  {
   "cell_type": "markdown",
   "id": "6b29968a",
   "metadata": {},
   "source": [
    "## test dataset preprocessing"
   ]
  },
  {
   "cell_type": "code",
   "execution_count": 34,
   "id": "c21cf22a",
   "metadata": {
    "ExecuteTime": {
     "end_time": "2022-04-17T08:04:03.465762Z",
     "start_time": "2022-04-17T08:04:03.379298Z"
    }
   },
   "outputs": [
    {
     "data": {
      "text/html": [
       "<div>\n",
       "<style scoped>\n",
       "    .dataframe tbody tr th:only-of-type {\n",
       "        vertical-align: middle;\n",
       "    }\n",
       "\n",
       "    .dataframe tbody tr th {\n",
       "        vertical-align: top;\n",
       "    }\n",
       "\n",
       "    .dataframe thead th {\n",
       "        text-align: right;\n",
       "    }\n",
       "</style>\n",
       "<table border=\"1\" class=\"dataframe\">\n",
       "  <thead>\n",
       "    <tr style=\"text-align: right;\">\n",
       "      <th></th>\n",
       "      <th>id</th>\n",
       "      <th>text</th>\n",
       "    </tr>\n",
       "  </thead>\n",
       "  <tbody>\n",
       "    <tr>\n",
       "      <th>0</th>\n",
       "      <td>0</td>\n",
       "      <td>\\nThe VL-IDE Adapter can be much faster then t...</td>\n",
       "    </tr>\n",
       "    <tr>\n",
       "      <th>1</th>\n",
       "      <td>1</td>\n",
       "      <td>\\n\\nYeah.  In a fire that reportedly burned ho...</td>\n",
       "    </tr>\n",
       "    <tr>\n",
       "      <th>2</th>\n",
       "      <td>2</td>\n",
       "      <td>:Judge: \"I grant you immunity from whatever ma...</td>\n",
       "    </tr>\n",
       "    <tr>\n",
       "      <th>3</th>\n",
       "      <td>3</td>\n",
       "      <td>I, too, put a corbin seat on my Hawk.  I got t...</td>\n",
       "    </tr>\n",
       "    <tr>\n",
       "      <th>4</th>\n",
       "      <td>4</td>\n",
       "      <td>\\n\\nDo I ever!!!!!!  After 2 years of having h...</td>\n",
       "    </tr>\n",
       "  </tbody>\n",
       "</table>\n",
       "</div>"
      ],
      "text/plain": [
       "   id                                               text\n",
       "0   0  \\nThe VL-IDE Adapter can be much faster then t...\n",
       "1   1  \\n\\nYeah.  In a fire that reportedly burned ho...\n",
       "2   2  :Judge: \"I grant you immunity from whatever ma...\n",
       "3   3  I, too, put a corbin seat on my Hawk.  I got t...\n",
       "4   4  \\n\\nDo I ever!!!!!!  After 2 years of having h..."
      ]
     },
     "execution_count": 34,
     "metadata": {},
     "output_type": "execute_result"
    }
   ],
   "source": [
    "test = pd.read_csv('./dataset/test.csv')\n",
    "test.head()"
   ]
  },
  {
   "cell_type": "code",
   "execution_count": 35,
   "id": "4eedcb34",
   "metadata": {
    "ExecuteTime": {
     "end_time": "2022-04-17T08:04:04.679103Z",
     "start_time": "2022-04-17T08:04:03.467333Z"
    }
   },
   "outputs": [
    {
     "data": {
      "text/html": [
       "<div>\n",
       "<style scoped>\n",
       "    .dataframe tbody tr th:only-of-type {\n",
       "        vertical-align: middle;\n",
       "    }\n",
       "\n",
       "    .dataframe tbody tr th {\n",
       "        vertical-align: top;\n",
       "    }\n",
       "\n",
       "    .dataframe thead th {\n",
       "        text-align: right;\n",
       "    }\n",
       "</style>\n",
       "<table border=\"1\" class=\"dataframe\">\n",
       "  <thead>\n",
       "    <tr style=\"text-align: right;\">\n",
       "      <th></th>\n",
       "      <th>id</th>\n",
       "      <th>text</th>\n",
       "    </tr>\n",
       "  </thead>\n",
       "  <tbody>\n",
       "    <tr>\n",
       "      <th>0</th>\n",
       "      <td>0</td>\n",
       "      <td>the vlide adapter can be much faster then the ...</td>\n",
       "    </tr>\n",
       "    <tr>\n",
       "      <th>1</th>\n",
       "      <td>1</td>\n",
       "      <td>yeah in a fire that reportedly burned hotter t...</td>\n",
       "    </tr>\n",
       "    <tr>\n",
       "      <th>2</th>\n",
       "      <td>2</td>\n",
       "      <td>judge i grant you immunity from whatever may b...</td>\n",
       "    </tr>\n",
       "    <tr>\n",
       "      <th>3</th>\n",
       "      <td>3</td>\n",
       "      <td>i too put a corbin seat on my hawk i got the s...</td>\n",
       "    </tr>\n",
       "    <tr>\n",
       "      <th>4</th>\n",
       "      <td>4</td>\n",
       "      <td>do i ever after years of having health problem...</td>\n",
       "    </tr>\n",
       "  </tbody>\n",
       "</table>\n",
       "</div>"
      ],
      "text/plain": [
       "   id                                               text\n",
       "0   0  the vlide adapter can be much faster then the ...\n",
       "1   1  yeah in a fire that reportedly burned hotter t...\n",
       "2   2  judge i grant you immunity from whatever may b...\n",
       "3   3  i too put a corbin seat on my hawk i got the s...\n",
       "4   4  do i ever after years of having health problem..."
      ]
     },
     "execution_count": 35,
     "metadata": {},
     "output_type": "execute_result"
    }
   ],
   "source": [
    "temp = clean_text(test['text']) \n",
    "test['text'] = temp\n",
    "test.head()"
   ]
  },
  {
   "cell_type": "code",
   "execution_count": 36,
   "id": "b4e50269",
   "metadata": {
    "ExecuteTime": {
     "end_time": "2022-04-17T08:04:05.344368Z",
     "start_time": "2022-04-17T08:04:04.679790Z"
    }
   },
   "outputs": [],
   "source": [
    "clean_test_reviews = []\n",
    "\n",
    "for review in test['text']:\n",
    "    clean_test_reviews.append(text_preprocessing(review, remove_stopwords=True))\n",
    "    \n",
    "clean_test_df = pd.DataFrame({'clean_text' : clean_test_reviews, 'text' : test['text'], 'id': test['id']})"
   ]
  },
  {
   "cell_type": "code",
   "execution_count": 37,
   "id": "58232259",
   "metadata": {
    "ExecuteTime": {
     "end_time": "2022-04-17T08:04:05.348367Z",
     "start_time": "2022-04-17T08:04:05.345215Z"
    }
   },
   "outputs": [
    {
     "data": {
      "text/html": [
       "<div>\n",
       "<style scoped>\n",
       "    .dataframe tbody tr th:only-of-type {\n",
       "        vertical-align: middle;\n",
       "    }\n",
       "\n",
       "    .dataframe tbody tr th {\n",
       "        vertical-align: top;\n",
       "    }\n",
       "\n",
       "    .dataframe thead th {\n",
       "        text-align: right;\n",
       "    }\n",
       "</style>\n",
       "<table border=\"1\" class=\"dataframe\">\n",
       "  <thead>\n",
       "    <tr style=\"text-align: right;\">\n",
       "      <th></th>\n",
       "      <th>clean_text</th>\n",
       "      <th>text</th>\n",
       "      <th>id</th>\n",
       "    </tr>\n",
       "  </thead>\n",
       "  <tbody>\n",
       "    <tr>\n",
       "      <th>0</th>\n",
       "      <td>vlide adapter much faster normal ide depends t...</td>\n",
       "      <td>the vlide adapter can be much faster then the ...</td>\n",
       "      <td>0</td>\n",
       "    </tr>\n",
       "    <tr>\n",
       "      <th>1</th>\n",
       "      <td>yeah fire reportedly burned hotter degrees hot...</td>\n",
       "      <td>yeah in a fire that reportedly burned hotter t...</td>\n",
       "      <td>1</td>\n",
       "    </tr>\n",
       "    <tr>\n",
       "      <th>2</th>\n",
       "      <td>judge grant immunity whatever may learned key ...</td>\n",
       "      <td>judge i grant you immunity from whatever may b...</td>\n",
       "      <td>2</td>\n",
       "    </tr>\n",
       "    <tr>\n",
       "      <th>3</th>\n",
       "      <td>put corbin seat hawk got solo seat whichcould ...</td>\n",
       "      <td>i too put a corbin seat on my hawk i got the s...</td>\n",
       "      <td>3</td>\n",
       "    </tr>\n",
       "    <tr>\n",
       "      <th>4</th>\n",
       "      <td>ever years health problems beencleared wallery...</td>\n",
       "      <td>do i ever after years of having health problem...</td>\n",
       "      <td>4</td>\n",
       "    </tr>\n",
       "  </tbody>\n",
       "</table>\n",
       "</div>"
      ],
      "text/plain": [
       "                                          clean_text  \\\n",
       "0  vlide adapter much faster normal ide depends t...   \n",
       "1  yeah fire reportedly burned hotter degrees hot...   \n",
       "2  judge grant immunity whatever may learned key ...   \n",
       "3  put corbin seat hawk got solo seat whichcould ...   \n",
       "4  ever years health problems beencleared wallery...   \n",
       "\n",
       "                                                text  id  \n",
       "0  the vlide adapter can be much faster then the ...   0  \n",
       "1  yeah in a fire that reportedly burned hotter t...   1  \n",
       "2  judge i grant you immunity from whatever may b...   2  \n",
       "3  i too put a corbin seat on my hawk i got the s...   3  \n",
       "4  do i ever after years of having health problem...   4  "
      ]
     },
     "execution_count": 37,
     "metadata": {},
     "output_type": "execute_result"
    }
   ],
   "source": [
    "clean_test_df.head()"
   ]
  },
  {
   "cell_type": "code",
   "execution_count": 38,
   "id": "4ad15b8c",
   "metadata": {
    "ExecuteTime": {
     "end_time": "2022-04-17T08:04:06.170072Z",
     "start_time": "2022-04-17T08:04:05.349162Z"
    }
   },
   "outputs": [
    {
     "name": "stdout",
     "output_type": "stream",
     "text": [
      "[ 3 16 11 ...  4  0 12]\n"
     ]
    }
   ],
   "source": [
    "pred = mlp.predict(clean_test_df['clean_text'])\n",
    "print(pred)"
   ]
  },
  {
   "cell_type": "markdown",
   "id": "eb232154",
   "metadata": {},
   "source": [
    "---"
   ]
  },
  {
   "cell_type": "markdown",
   "id": "b4828c5a",
   "metadata": {},
   "source": [
    "## Prediction"
   ]
  },
  {
   "cell_type": "code",
   "execution_count": 39,
   "id": "4dc076a2",
   "metadata": {
    "ExecuteTime": {
     "end_time": "2022-04-17T08:04:06.177852Z",
     "start_time": "2022-04-17T08:04:06.171308Z"
    }
   },
   "outputs": [
    {
     "data": {
      "text/html": [
       "<div>\n",
       "<style scoped>\n",
       "    .dataframe tbody tr th:only-of-type {\n",
       "        vertical-align: middle;\n",
       "    }\n",
       "\n",
       "    .dataframe tbody tr th {\n",
       "        vertical-align: top;\n",
       "    }\n",
       "\n",
       "    .dataframe thead th {\n",
       "        text-align: right;\n",
       "    }\n",
       "</style>\n",
       "<table border=\"1\" class=\"dataframe\">\n",
       "  <thead>\n",
       "    <tr style=\"text-align: right;\">\n",
       "      <th></th>\n",
       "      <th>id</th>\n",
       "      <th>target</th>\n",
       "    </tr>\n",
       "  </thead>\n",
       "  <tbody>\n",
       "    <tr>\n",
       "      <th>0</th>\n",
       "      <td>0</td>\n",
       "      <td>0</td>\n",
       "    </tr>\n",
       "    <tr>\n",
       "      <th>1</th>\n",
       "      <td>1</td>\n",
       "      <td>0</td>\n",
       "    </tr>\n",
       "    <tr>\n",
       "      <th>2</th>\n",
       "      <td>2</td>\n",
       "      <td>0</td>\n",
       "    </tr>\n",
       "    <tr>\n",
       "      <th>3</th>\n",
       "      <td>3</td>\n",
       "      <td>0</td>\n",
       "    </tr>\n",
       "    <tr>\n",
       "      <th>4</th>\n",
       "      <td>4</td>\n",
       "      <td>0</td>\n",
       "    </tr>\n",
       "  </tbody>\n",
       "</table>\n",
       "</div>"
      ],
      "text/plain": [
       "   id  target\n",
       "0   0       0\n",
       "1   1       0\n",
       "2   2       0\n",
       "3   3       0\n",
       "4   4       0"
      ]
     },
     "execution_count": 39,
     "metadata": {},
     "output_type": "execute_result"
    }
   ],
   "source": [
    "submission = pd.read_csv('./dataset/sample_submission.csv')\n",
    "submission.head()"
   ]
  },
  {
   "cell_type": "code",
   "execution_count": 40,
   "id": "a65abec6",
   "metadata": {
    "ExecuteTime": {
     "end_time": "2022-04-17T08:04:06.182767Z",
     "start_time": "2022-04-17T08:04:06.178685Z"
    },
    "scrolled": true
   },
   "outputs": [
    {
     "data": {
      "text/html": [
       "<div>\n",
       "<style scoped>\n",
       "    .dataframe tbody tr th:only-of-type {\n",
       "        vertical-align: middle;\n",
       "    }\n",
       "\n",
       "    .dataframe tbody tr th {\n",
       "        vertical-align: top;\n",
       "    }\n",
       "\n",
       "    .dataframe thead th {\n",
       "        text-align: right;\n",
       "    }\n",
       "</style>\n",
       "<table border=\"1\" class=\"dataframe\">\n",
       "  <thead>\n",
       "    <tr style=\"text-align: right;\">\n",
       "      <th></th>\n",
       "      <th>id</th>\n",
       "      <th>target</th>\n",
       "    </tr>\n",
       "  </thead>\n",
       "  <tbody>\n",
       "    <tr>\n",
       "      <th>0</th>\n",
       "      <td>0</td>\n",
       "      <td>3</td>\n",
       "    </tr>\n",
       "    <tr>\n",
       "      <th>1</th>\n",
       "      <td>1</td>\n",
       "      <td>16</td>\n",
       "    </tr>\n",
       "    <tr>\n",
       "      <th>2</th>\n",
       "      <td>2</td>\n",
       "      <td>11</td>\n",
       "    </tr>\n",
       "    <tr>\n",
       "      <th>3</th>\n",
       "      <td>3</td>\n",
       "      <td>8</td>\n",
       "    </tr>\n",
       "    <tr>\n",
       "      <th>4</th>\n",
       "      <td>4</td>\n",
       "      <td>7</td>\n",
       "    </tr>\n",
       "  </tbody>\n",
       "</table>\n",
       "</div>"
      ],
      "text/plain": [
       "   id  target\n",
       "0   0       3\n",
       "1   1      16\n",
       "2   2      11\n",
       "3   3       8\n",
       "4   4       7"
      ]
     },
     "execution_count": 40,
     "metadata": {},
     "output_type": "execute_result"
    }
   ],
   "source": [
    "submission['target'] = pred\n",
    "submission.head()"
   ]
  },
  {
   "cell_type": "code",
   "execution_count": null,
   "id": "da80778b",
   "metadata": {
    "ExecuteTime": {
     "end_time": "2022-04-15T08:33:00.486861Z",
     "start_time": "2022-04-15T08:33:00.463068Z"
    }
   },
   "outputs": [],
   "source": [
    "submission.to_csv('./5_submission.csv', index=False)"
   ]
  },
  {
   "cell_type": "code",
   "execution_count": null,
   "id": "ccccf9f4",
   "metadata": {},
   "outputs": [],
   "source": []
  }
 ],
 "metadata": {
  "kernelspec": {
   "display_name": "Python 3 (ipykernel)",
   "language": "python",
   "name": "python3"
  },
  "language_info": {
   "codemirror_mode": {
    "name": "ipython",
    "version": 3
   },
   "file_extension": ".py",
   "mimetype": "text/x-python",
   "name": "python",
   "nbconvert_exporter": "python",
   "pygments_lexer": "ipython3",
   "version": "3.9.0"
  },
  "toc": {
   "base_numbering": 1,
   "nav_menu": {},
   "number_sections": true,
   "sideBar": true,
   "skip_h1_title": false,
   "title_cell": "Table of Contents",
   "title_sidebar": "Contents",
   "toc_cell": false,
   "toc_position": {},
   "toc_section_display": true,
   "toc_window_display": false
  },
  "varInspector": {
   "cols": {
    "lenName": 16,
    "lenType": 16,
    "lenVar": 40
   },
   "kernels_config": {
    "python": {
     "delete_cmd_postfix": "",
     "delete_cmd_prefix": "del ",
     "library": "var_list.py",
     "varRefreshCmd": "print(var_dic_list())"
    },
    "r": {
     "delete_cmd_postfix": ") ",
     "delete_cmd_prefix": "rm(",
     "library": "var_list.r",
     "varRefreshCmd": "cat(var_dic_list()) "
    }
   },
   "types_to_exclude": [
    "module",
    "function",
    "builtin_function_or_method",
    "instance",
    "_Feature"
   ],
   "window_display": false
  }
 },
 "nbformat": 4,
 "nbformat_minor": 5
}
