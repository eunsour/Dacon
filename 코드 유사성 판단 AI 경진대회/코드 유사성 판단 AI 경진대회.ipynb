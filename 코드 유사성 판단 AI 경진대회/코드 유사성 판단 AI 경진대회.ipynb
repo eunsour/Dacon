{
 "cells": [
  {
   "cell_type": "code",
   "execution_count": 1,
   "id": "3c864f30",
   "metadata": {
    "ExecuteTime": {
     "end_time": "2022-05-19T12:04:29.308591Z",
     "start_time": "2022-05-19T12:04:28.056545Z"
    }
   },
   "outputs": [],
   "source": [
    "import pandas as pd\n",
    "import numpy as np\n",
    "from sklearn.feature_extraction.text import CountVectorizer\n",
    "from sklearn.metrics.pairwise import cosine_similarity"
   ]
  },
  {
   "cell_type": "code",
   "execution_count": 3,
   "id": "3750d345",
   "metadata": {
    "ExecuteTime": {
     "end_time": "2022-05-19T12:04:38.995604Z",
     "start_time": "2022-05-19T12:04:38.836779Z"
    },
    "scrolled": true
   },
   "outputs": [
    {
     "data": {
      "text/html": [
       "<div>\n",
       "<style scoped>\n",
       "    .dataframe tbody tr th:only-of-type {\n",
       "        vertical-align: middle;\n",
       "    }\n",
       "\n",
       "    .dataframe tbody tr th {\n",
       "        vertical-align: top;\n",
       "    }\n",
       "\n",
       "    .dataframe thead th {\n",
       "        text-align: right;\n",
       "    }\n",
       "</style>\n",
       "<table border=\"1\" class=\"dataframe\">\n",
       "  <thead>\n",
       "    <tr style=\"text-align: right;\">\n",
       "      <th></th>\n",
       "      <th>code1</th>\n",
       "      <th>code2</th>\n",
       "      <th>similar</th>\n",
       "    </tr>\n",
       "  </thead>\n",
       "  <tbody>\n",
       "    <tr>\n",
       "      <th>0</th>\n",
       "      <td>flag = \"go\"\\ncnt = 0\\nwhile flag == \"go\":\\n   ...</td>\n",
       "      <td># Python 3+\\n#--------------------------------...</td>\n",
       "      <td>1</td>\n",
       "    </tr>\n",
       "    <tr>\n",
       "      <th>1</th>\n",
       "      <td>b, c = map(int, input().split())\\n\\nprint(b * c)</td>\n",
       "      <td>import numpy as np\\n\\nn = int(input())\\na = np...</td>\n",
       "      <td>0</td>\n",
       "    </tr>\n",
       "    <tr>\n",
       "      <th>2</th>\n",
       "      <td>import numpy as np\\nimport sys\\nread = sys.std...</td>\n",
       "      <td>N, M = map(int, input().split())\\nif M%2 != 0:...</td>\n",
       "      <td>0</td>\n",
       "    </tr>\n",
       "    <tr>\n",
       "      <th>3</th>\n",
       "      <td>b, c = map(int, input().split())\\n\\nprint(b * c)</td>\n",
       "      <td>n,m=map(int,input().split())\\nh=list(map(int,i...</td>\n",
       "      <td>0</td>\n",
       "    </tr>\n",
       "    <tr>\n",
       "      <th>4</th>\n",
       "      <td>s=input()\\nt=input()\\nans=0\\nfor i in range(le...</td>\n",
       "      <td>import math\\na,b,h,m=map(int,input().split())\\...</td>\n",
       "      <td>0</td>\n",
       "    </tr>\n",
       "  </tbody>\n",
       "</table>\n",
       "</div>"
      ],
      "text/plain": [
       "                                               code1  \\\n",
       "0  flag = \"go\"\\ncnt = 0\\nwhile flag == \"go\":\\n   ...   \n",
       "1   b, c = map(int, input().split())\\n\\nprint(b * c)   \n",
       "2  import numpy as np\\nimport sys\\nread = sys.std...   \n",
       "3   b, c = map(int, input().split())\\n\\nprint(b * c)   \n",
       "4  s=input()\\nt=input()\\nans=0\\nfor i in range(le...   \n",
       "\n",
       "                                               code2  similar  \n",
       "0  # Python 3+\\n#--------------------------------...        1  \n",
       "1  import numpy as np\\n\\nn = int(input())\\na = np...        0  \n",
       "2  N, M = map(int, input().split())\\nif M%2 != 0:...        0  \n",
       "3  n,m=map(int,input().split())\\nh=list(map(int,i...        0  \n",
       "4  import math\\na,b,h,m=map(int,input().split())\\...        0  "
      ]
     },
     "execution_count": 3,
     "metadata": {},
     "output_type": "execute_result"
    }
   ],
   "source": [
    "# 추가로 주어지는 Python Code 데이터들을 활용하여 새로운 Pair 쌍을 생성하여 더 많은 데이터로 학습할 수 있습니다.\n",
    "# 베이스라인에서는 이미 Pair 쌍으로 구축되어 주어지는 sample 데이터들로 학습을 진행합니다.\n",
    "train = pd.read_csv(\"./dataset/sample_train.csv\")\n",
    "train.head()"
   ]
  },
  {
   "cell_type": "code",
   "execution_count": 4,
   "id": "989f9e55",
   "metadata": {
    "ExecuteTime": {
     "end_time": "2022-05-19T12:04:47.226501Z",
     "start_time": "2022-05-19T12:04:46.180672Z"
    }
   },
   "outputs": [
    {
     "data": {
      "text/html": [
       "<div>\n",
       "<style scoped>\n",
       "    .dataframe tbody tr th:only-of-type {\n",
       "        vertical-align: middle;\n",
       "    }\n",
       "\n",
       "    .dataframe tbody tr th {\n",
       "        vertical-align: top;\n",
       "    }\n",
       "\n",
       "    .dataframe thead th {\n",
       "        text-align: right;\n",
       "    }\n",
       "</style>\n",
       "<table border=\"1\" class=\"dataframe\">\n",
       "  <thead>\n",
       "    <tr style=\"text-align: right;\">\n",
       "      <th></th>\n",
       "      <th>pair_id</th>\n",
       "      <th>code1</th>\n",
       "      <th>code2</th>\n",
       "    </tr>\n",
       "  </thead>\n",
       "  <tbody>\n",
       "    <tr>\n",
       "      <th>0</th>\n",
       "      <td>1</td>\n",
       "      <td>def main():\\n  s = input()\\n  if s.count('a') ...</td>\n",
       "      <td>N,K = map(int,input().split())\\nA = list(map(i...</td>\n",
       "    </tr>\n",
       "    <tr>\n",
       "      <th>1</th>\n",
       "      <td>2</td>\n",
       "      <td>N,K,Q = map(int,input().split())\\npoints = [0]...</td>\n",
       "      <td>N, K, Q = map(int,input().split())\\n\\nif K &gt; Q...</td>\n",
       "    </tr>\n",
       "    <tr>\n",
       "      <th>2</th>\n",
       "      <td>3</td>\n",
       "      <td>from itertools import combinations\\nn = int(in...</td>\n",
       "      <td>s = input()\\nt = input()\\nlength_s = len(s)\\nl...</td>\n",
       "    </tr>\n",
       "    <tr>\n",
       "      <th>3</th>\n",
       "      <td>4</td>\n",
       "      <td>a,b=map(int,input().split())\\n\\nans1=a+b\\nans2...</td>\n",
       "      <td>a, b, c, d = map(int,input().split())\\n\\nif a ...</td>\n",
       "    </tr>\n",
       "    <tr>\n",
       "      <th>4</th>\n",
       "      <td>5</td>\n",
       "      <td>S = input()\\nK = int(input())\\n\\nind = -1\\nfor...</td>\n",
       "      <td>H, W = map(int, input().split())\\ngrid = []\\nf...</td>\n",
       "    </tr>\n",
       "  </tbody>\n",
       "</table>\n",
       "</div>"
      ],
      "text/plain": [
       "   pair_id                                              code1  \\\n",
       "0        1  def main():\\n  s = input()\\n  if s.count('a') ...   \n",
       "1        2  N,K,Q = map(int,input().split())\\npoints = [0]...   \n",
       "2        3  from itertools import combinations\\nn = int(in...   \n",
       "3        4  a,b=map(int,input().split())\\n\\nans1=a+b\\nans2...   \n",
       "4        5  S = input()\\nK = int(input())\\n\\nind = -1\\nfor...   \n",
       "\n",
       "                                               code2  \n",
       "0  N,K = map(int,input().split())\\nA = list(map(i...  \n",
       "1  N, K, Q = map(int,input().split())\\n\\nif K > Q...  \n",
       "2  s = input()\\nt = input()\\nlength_s = len(s)\\nl...  \n",
       "3  a, b, c, d = map(int,input().split())\\n\\nif a ...  \n",
       "4  H, W = map(int, input().split())\\ngrid = []\\nf...  "
      ]
     },
     "execution_count": 4,
     "metadata": {},
     "output_type": "execute_result"
    }
   ],
   "source": [
    "test = pd.read_csv(\"./dataset/test.csv\")\n",
    "test.head()"
   ]
  },
  {
   "cell_type": "code",
   "execution_count": 5,
   "id": "76e58826",
   "metadata": {
    "ExecuteTime": {
     "end_time": "2022-05-19T12:04:50.803035Z",
     "start_time": "2022-05-19T12:04:50.795804Z"
    }
   },
   "outputs": [],
   "source": [
    "class BaselineModel():\n",
    "    def __init__(self, threshold=0.5):\n",
    "        super(BaselineModel, self).__init__()\n",
    "        self.threshold = threshold # 유사도 임계값\n",
    "        self.vectorizer = CountVectorizer()\n",
    "        \n",
    "    def fit(self, code1, code2):\n",
    "        # 입력 받은 코드 쌍으로 부터 vectorizer를 fit 시킵니다.\n",
    "        self.vectorizer.fit(code1)\n",
    "        self.vectorizer.fit(code2)\n",
    "        print('Done.')\n",
    "    \n",
    "    def predict_proba(self, code1, code2):\n",
    "        # 입력 받은 코드 쌍으로 부터 vectorizer를 통해 vector화 합니다.\n",
    "        code1_vecs = self.vectorizer.transform(code1)\n",
    "        code2_vecs = self.vectorizer.transform(code2)\n",
    "        \n",
    "        preds = []\n",
    "        # 각각의 코드 쌍(=벡터 쌍)으로부터 cosine-similarity를 구합니다.\n",
    "        for code1_vec, code2_vec in zip(code1_vecs, code2_vecs):\n",
    "            preds.append(cosine_similarity(code1_vec, code2_vec))\n",
    "        \n",
    "        preds = np.reshape(preds, len(preds))\n",
    "        print('Done.')\n",
    "        # 각 코드 쌍들의 유사도를 반환\n",
    "        return preds\n",
    "    \n",
    "    def predict(self, code1, code2):\n",
    "        preds = self.predict_proba(code1, code2)\n",
    "        # cosine-similarity (유사도)가 설정한 임계값(Threshold=0.5)보다 높다면 유사하다 : 1, 아니라면 유사하지 않다 : 0\n",
    "        preds = np.where(preds>self.threshold, 1, 0)\n",
    "        # 각 코드 쌍들의 유사도를 Threshold를 통해 유사함을 판별 (이진분류)\n",
    "        return preds"
   ]
  },
  {
   "cell_type": "code",
   "execution_count": 6,
   "id": "c5e2a609",
   "metadata": {
    "ExecuteTime": {
     "end_time": "2022-05-19T12:04:56.930940Z",
     "start_time": "2022-05-19T12:04:56.190772Z"
    }
   },
   "outputs": [
    {
     "name": "stdout",
     "output_type": "stream",
     "text": [
      "Done.\n"
     ]
    }
   ],
   "source": [
    "# 모델 선언\n",
    "model = BaselineModel(threshold=0.5)\n",
    "# 학습 코드 쌍들로부터 Model을 Fitting\n",
    "model.fit(train['code1'], train['code2'])"
   ]
  },
  {
   "cell_type": "code",
   "execution_count": 7,
   "id": "accee202",
   "metadata": {
    "ExecuteTime": {
     "end_time": "2022-05-19T12:05:54.104421Z",
     "start_time": "2022-05-19T12:05:00.548344Z"
    }
   },
   "outputs": [
    {
     "name": "stdout",
     "output_type": "stream",
     "text": [
      "Done.\n"
     ]
    }
   ],
   "source": [
    "# 모델 추론\n",
    "preds = model.predict(test['code1'], test['code2'])"
   ]
  },
  {
   "cell_type": "code",
   "execution_count": null,
   "id": "cfa94a41",
   "metadata": {},
   "outputs": [],
   "source": [
    "submission = pd.read_csv('./sample_submission.csv')\n",
    "submission['similar'] = preds\n",
    "submission.to_csv('./submission.csv', index=False)"
   ]
  }
 ],
 "metadata": {
  "kernelspec": {
   "display_name": "Python 3 (ipykernel)",
   "language": "python",
   "name": "python3"
  },
  "language_info": {
   "codemirror_mode": {
    "name": "ipython",
    "version": 3
   },
   "file_extension": ".py",
   "mimetype": "text/x-python",
   "name": "python",
   "nbconvert_exporter": "python",
   "pygments_lexer": "ipython3",
   "version": "3.8.9"
  },
  "toc": {
   "base_numbering": 1,
   "nav_menu": {},
   "number_sections": true,
   "sideBar": true,
   "skip_h1_title": false,
   "title_cell": "Table of Contents",
   "title_sidebar": "Contents",
   "toc_cell": false,
   "toc_position": {},
   "toc_section_display": true,
   "toc_window_display": false
  }
 },
 "nbformat": 4,
 "nbformat_minor": 5
}
